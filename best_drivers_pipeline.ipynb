{
 "cells": [
  {
   "cell_type": "code",
   "execution_count": 1,
   "id": "2bf03f9a",
   "metadata": {},
   "outputs": [
    {
     "name": "stdout",
     "output_type": "stream",
     "text": [
      "+--------+------+--------+-------------+------+\n",
      "|resultId|raceId|driverId|constructorId|points|\n",
      "+--------+------+--------+-------------+------+\n",
      "|       1|    18|       1|            1|    10|\n",
      "|       2|    18|       2|            2|     8|\n",
      "|       3|    18|       3|            3|     6|\n",
      "|       4|    18|       4|            4|     5|\n",
      "|       5|    18|       5|            1|     4|\n",
      "+--------+------+--------+-------------+------+\n",
      "only showing top 5 rows\n",
      "\n",
      "+--------+-----------------+------------------+\n",
      "|driverId|      driver_name|driver_nationality|\n",
      "+--------+-----------------+------------------+\n",
      "|       1|   Lewis Hamilton|           British|\n",
      "|       2|    Nick Heidfeld|            German|\n",
      "|       3|     Nico Rosberg|            German|\n",
      "|       4|  Fernando Alonso|           Spanish|\n",
      "|       5|Heikki Kovalainen|           Finnish|\n",
      "+--------+-----------------+------------------+\n",
      "only showing top 5 rows\n",
      "\n",
      "+-------------+----------------+-----------------------+\n",
      "|constructorId|constructor_name|constructor_nationality|\n",
      "+-------------+----------------+-----------------------+\n",
      "|            1|         McLaren|                British|\n",
      "|            2|      BMW Sauber|                 German|\n",
      "|            3|        Williams|                British|\n",
      "|            4|         Renault|                 French|\n",
      "|            5|      Toro Rosso|                Italian|\n",
      "+-------------+----------------+-----------------------+\n",
      "only showing top 5 rows\n",
      "\n"
     ]
    }
   ],
   "source": [
    "from pyspark.sql import SparkSession\n",
    "from pyspark import SparkConf\n",
    "from pyspark.sql.functions import concat, lit\n",
    "\n",
    "sparkConf = SparkConf()\n",
    "sparkConf.setMaster(\"spark://spark-master:7077\")\n",
    "sparkConf.setAppName(\"Constructors_pipeline\")\n",
    "sparkConf.set(\"spark.driver.memory\", \"2g\")\n",
    "sparkConf.set(\"spark.executor.cores\", \"1\")\n",
    "sparkConf.set(\"spark.driver.cores\", \"1\")\n",
    "# create the spark session, which is the entry point to Spark SQL engine.\n",
    "spark = SparkSession.builder.config(conf=sparkConf).getOrCreate()\n",
    "\n",
    "# Setup hadoop fs configuration for schema gs://\n",
    "conf = spark.sparkContext._jsc.hadoopConfiguration()\n",
    "conf.set(\"fs.gs.impl\", \"com.google.cloud.hadoop.fs.gcs.GoogleHadoopFileSystem\")\n",
    "conf.set(\"fs.AbstractFileSystem.gs.impl\", \"com.google.cloud.hadoop.fs.gcs.GoogleHadoopFS\")\n",
    "\n",
    "# load the results, drivers and constructors tables in dataframes\n",
    "resultsDF = spark.read.format(\"csv\").option(\"header\", \"true\") \\\n",
    "       .load(\"gs://data-group1-ass2/results.csv\")\n",
    "driversDF = spark.read.format(\"csv\").option(\"header\", \"true\") \\\n",
    "       .load(\"gs://data-group1-ass2/drivers.csv\")\n",
    "constructorsDF = spark.read.format(\"csv\").option(\"header\", \"true\") \\\n",
    "       .load(\"gs://data-group1-ass2/constructors.csv\")\n",
    "\n",
    "# keep interesting columns\n",
    "filteredResultsDF = resultsDF.select(\"resultId\", \"raceId\", \"driverId\", \"constructorId\", \"points\")\n",
    "filteredResultsDF.na.drop(\"any\")\n",
    "filteredDriversDF = driversDF.select(\"driverId\", concat(\"forename\",lit(\" \"),  \"surname\").alias(\"driver_name\"), \"nationality\").withColumnRenamed(\"nationality\", \"driver_nationality\")\n",
    "filteredDriversDF.na.drop(\"any\", subset = [\"driverId\"])\n",
    "filteredConstructorsDF = constructorsDF.select(\"constructorId\", \"name\", \"nationality\").withColumnRenamed(\"nationality\", \"constructor_nationality\").withColumnRenamed(\"name\", \"constructor_name\")\n",
    "filteredConstructorsDF.na.drop(\"any\", subset = [\"constructorId\"])\n",
    "\n",
    "filteredResultsDF.show(5)\n",
    "filteredDriversDF.show(5)\n",
    "filteredConstructorsDF.show(5)"
   ]
  },
  {
   "cell_type": "code",
   "execution_count": 2,
   "id": "eecbf541",
   "metadata": {},
   "outputs": [
    {
     "name": "stdout",
     "output_type": "stream",
     "text": [
      "root\n",
      " |-- resultId: string (nullable = true)\n",
      " |-- raceId: string (nullable = true)\n",
      " |-- driverId: string (nullable = true)\n",
      " |-- constructorId: string (nullable = true)\n",
      " |-- points: string (nullable = true)\n",
      "\n"
     ]
    }
   ],
   "source": [
    "from pyspark.sql.functions import col\n",
    "from pyspark.sql.types import NumericType, IntegerType\n",
    "\n",
    "# Change points column to numeric type\n",
    "filteredResultsDF.printSchema()\n",
    "filteredResultsDF2 = filteredResultsDF.withColumn(\"points\", col(\"points\").cast(IntegerType()))"
   ]
  },
  {
   "cell_type": "code",
   "execution_count": 3,
   "id": "0d04316f",
   "metadata": {},
   "outputs": [
    {
     "name": "stdout",
     "output_type": "stream",
     "text": [
      "+--------+-------------+-----------+\n",
      "|driverId|constructorId|sum(points)|\n",
      "+--------+-------------+-----------+\n",
      "|       1|            1|        913|\n",
      "|      18|            1|        908|\n",
      "|     117|            1|        458|\n",
      "|     102|            1|        451|\n",
      "|      14|            1|        412|\n",
      "|      57|            1|        407|\n",
      "|     846|            1|        378|\n",
      "|       8|            1|        337|\n",
      "|       4|            1|        241|\n",
      "|     832|            1|        201|\n",
      "|      77|            1|        135|\n",
      "|     817|            1|        130|\n",
      "|     182|            1|        128|\n",
      "|     231|            1|        117|\n",
      "|     187|            1|        109|\n",
      "|     224|            1|        100|\n",
      "|     304|            1|         94|\n",
      "|      31|            1|         86|\n",
      "|       5|            1|         75|\n",
      "|     200|            1|         63|\n",
      "+--------+-------------+-----------+\n",
      "only showing top 20 rows\n",
      "\n"
     ]
    }
   ],
   "source": [
    "# Aggregate on driver and then constructor and add all points together\n",
    "groupedResultsDF = filteredResultsDF2.groupby(\"driverId\", \"constructorId\").sum(\"points\")\n",
    "# Then order by constructor and then points, to see the highest scoring drivers for every team\n",
    "groupedResultsDF.orderBy(col(\"constructorId\").asc(), col(\"sum(points)\").desc()).show(20)"
   ]
  },
  {
   "cell_type": "code",
   "execution_count": 4,
   "id": "e68a6772",
   "metadata": {},
   "outputs": [
    {
     "name": "stdout",
     "output_type": "stream",
     "text": [
      "+--------+-------------+-----------+---------------+\n",
      "|driverId|constructorId|totalPoints|denseRankPoints|\n",
      "+--------+-------------+-----------+---------------+\n",
      "|       1|            1|        913|              1|\n",
      "|      18|            1|        908|              2|\n",
      "|     117|            1|        458|              3|\n",
      "|     102|            1|        451|              4|\n",
      "|      14|            1|        412|              5|\n",
      "|      57|            1|        407|              6|\n",
      "|     846|            1|        378|              7|\n",
      "|       8|            1|        337|              8|\n",
      "|       4|            1|        241|              9|\n",
      "|     832|            1|        201|             10|\n",
      "|      77|            1|        135|             11|\n",
      "|     817|            1|        130|             12|\n",
      "|     182|            1|        128|             13|\n",
      "|     231|            1|        117|             14|\n",
      "|     187|            1|        109|             15|\n",
      "|     224|            1|        100|             16|\n",
      "|     304|            1|         94|             17|\n",
      "|      31|            1|         86|             18|\n",
      "|       5|            1|         75|             19|\n",
      "|     200|            1|         63|             20|\n",
      "+--------+-------------+-----------+---------------+\n",
      "only showing top 20 rows\n",
      "\n"
     ]
    }
   ],
   "source": [
    "from pyspark.sql.window import Window\n",
    "from pyspark.sql.functions import max, dense_rank\n",
    "\n",
    "rankedDriverWindow = Window.partitionBy(\"constructorId\").orderBy(col(\"sum(points)\").desc())\n",
    "denseRankPoints = dense_rank().over(rankedDriverWindow)\n",
    "dfRankedDrivers = groupedResultsDF.select(col(\"driverId\"), col(\"constructorId\"), col(\"sum(points)\").alias(\"totalPoints\"), denseRankPoints.alias(\"denseRankPoints\"))\n",
    "dfRankedDrivers.show()"
   ]
  },
  {
   "cell_type": "code",
   "execution_count": 5,
   "id": "74b277b2",
   "metadata": {},
   "outputs": [
    {
     "name": "stdout",
     "output_type": "stream",
     "text": [
      "+--------+-------------+-----------+---------------+\n",
      "|driverId|constructorId|totalPoints|denseRankPoints|\n",
      "+--------+-------------+-----------+---------------+\n",
      "|       1|            1|        913|              1|\n",
      "|      18|            1|        908|              2|\n",
      "|     117|            1|        458|              3|\n",
      "|     815|           10|        400|              1|\n",
      "|     807|           10|        289|              2|\n",
      "|     839|           10|        136|              3|\n",
      "|     376|          100|          0|              1|\n",
      "|     484|          101|          0|              1|\n",
      "|     486|          102|          0|              1|\n",
      "|     475|          102|          0|              1|\n",
      "|     488|          103|          0|              1|\n",
      "|     545|          104|          0|              1|\n",
      "|     418|          104|          0|              1|\n",
      "|     579|          105|         99|              1|\n",
      "|     554|          105|         36|              2|\n",
      "|     475|          105|         33|              3|\n",
      "|     507|          106|          0|              1|\n",
      "|     508|          106|          0|              1|\n",
      "|     386|          106|          0|              1|\n",
      "|     509|          107|         14|              1|\n",
      "+--------+-------------+-----------+---------------+\n",
      "only showing top 20 rows\n",
      "\n"
     ]
    }
   ],
   "source": [
    "# Keep the 3 best drivers of every constructor\n",
    "dfBestDrivers = dfRankedDrivers.where((col(\"denseRankPoints\")==1) | (col(\"denseRankPoints\")==2) | (col(\"denseRankPoints\")==3))\n",
    "dfBestDrivers.show()"
   ]
  },
  {
   "cell_type": "code",
   "execution_count": 6,
   "id": "50156b9e",
   "metadata": {},
   "outputs": [
    {
     "name": "stdout",
     "output_type": "stream",
     "text": [
      "+-------------+--------+-----------+---------------+------------------+------------------+----------------+-----------------------+\n",
      "|constructorId|driverId|totalPoints|denseRankPoints|       driver_name|driver_nationality|constructor_name|constructor_nationality|\n",
      "+-------------+--------+-----------+---------------+------------------+------------------+----------------+-----------------------+\n",
      "|            1|       1|        913|              1|    Lewis Hamilton|           British|         McLaren|                British|\n",
      "|            1|      18|        908|              2|     Jenson Button|           British|         McLaren|                British|\n",
      "|            1|     117|        458|              3|       Alain Prost|            French|         McLaren|                British|\n",
      "|           10|     815|        400|              1|      Sergio Pérez|           Mexican|     Force India|                 Indian|\n",
      "|           10|     807|        289|              2|   Nico Hülkenberg|            German|     Force India|                 Indian|\n",
      "|           10|     839|        136|              3|      Esteban Ocon|            French|     Force India|                 Indian|\n",
      "|          105|     579|         99|              1|       Juan Fangio|         Argentine|        Maserati|                Italian|\n",
      "|          105|     554|         36|              2|        Jean Behra|            French|        Maserati|                Italian|\n",
      "|          105|     475|         33|              3|     Stirling Moss|           British|        Maserati|                Italian|\n",
      "|          107|     509|         14|              1|      Jim Rathmann|          American|          Watson|               American|\n",
      "|          107|     449|         14|              1|       Rodger Ward|          American|          Watson|               American|\n",
      "|          107|     559|          8|              2|      Pat Flaherty|          American|          Watson|               American|\n",
      "|          108|     509|          9|              1|      Jim Rathmann|          American|         Epperly|               American|\n",
      "|          108|     611|          8|              2|         Sam Hanks|          American|         Epperly|               American|\n",
      "|          108|     525|          8|              2|       Jimmy Bryan|          American|         Epperly|               American|\n",
      "|          108|     529|          7|              3| Tony Bettenhausen|          American|         Epperly|               American|\n",
      "|          109|     528|          4|              1|      Don Freeland|          American|        Phillips|               American|\n",
      "|          109|     511|          3|              2|       Don Branson|          American|        Phillips|               American|\n",
      "|           11|      18|         65|              1|     Jenson Button|           British|           Honda|               Japanese|\n",
      "|           11|      22|         41|              2|Rubens Barrichello|         Brazilian|           Honda|               Japanese|\n",
      "+-------------+--------+-----------+---------------+------------------+------------------+----------------+-----------------------+\n",
      "only showing top 20 rows\n",
      "\n",
      "root\n",
      " |-- constructorId: string (nullable = true)\n",
      " |-- driverId: string (nullable = true)\n",
      " |-- totalPoints: long (nullable = true)\n",
      " |-- denseRankPoints: integer (nullable = false)\n",
      " |-- driver_name: string (nullable = true)\n",
      " |-- driver_nationality: string (nullable = true)\n",
      " |-- constructor_name: string (nullable = true)\n",
      " |-- constructor_nationality: string (nullable = true)\n",
      "\n"
     ]
    }
   ],
   "source": [
    "# Join result with drivers and constructors table\n",
    "joinedDF = dfBestDrivers.join(filteredDriversDF, ['driverId']).join(filteredConstructorsDF, ['constructorId'])\n",
    "\n",
    "# Delete drivers with 0 points\n",
    "finalDF = joinedDF.where(col(\"totalPoints\")>0)\n",
    "finalDF.show()\n",
    "finalDF.printSchema()"
   ]
  },
  {
   "cell_type": "code",
   "execution_count": 7,
   "id": "e6078bdf",
   "metadata": {},
   "outputs": [],
   "source": [
    "# Use the Cloud Storage bucket for temporary BigQuery export data used by the connector.\n",
    "bucket = \"temp-group1-ass2\"  # use your bucket \n",
    "spark.conf.set('temporaryGcsBucket', bucket)\n",
    "\n",
    "# Saving the data to BigQuery\n",
    "finalDF.write.format('bigquery') \\\n",
    "  .option('table', 'deassignment2.Output_processing_pipeline.bestdrivers') \\\n",
    "  .mode(\"overwrite\") \\\n",
    "  .save()"
   ]
  },
  {
   "cell_type": "code",
   "execution_count": 8,
   "id": "a01090f5-f0b3-4f40-b3fd-36b2ecaa5fda",
   "metadata": {},
   "outputs": [],
   "source": [
    "# Stop the spark context\n",
    "spark.stop()"
   ]
  }
 ],
 "metadata": {
  "kernelspec": {
   "display_name": "Python 3 (ipykernel)",
   "language": "python",
   "name": "python3"
  },
  "language_info": {
   "codemirror_mode": {
    "name": "ipython",
    "version": 3
   },
   "file_extension": ".py",
   "mimetype": "text/x-python",
   "name": "python",
   "nbconvert_exporter": "python",
   "pygments_lexer": "ipython3",
   "version": "3.10.6"
  }
 },
 "nbformat": 4,
 "nbformat_minor": 5
}
